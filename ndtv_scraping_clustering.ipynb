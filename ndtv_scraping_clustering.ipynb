{
 "cells": [
  {
   "cell_type": "markdown",
   "id": "5471c591",
   "metadata": {},
   "source": [
    "# Import packages"
   ]
  },
  {
   "cell_type": "code",
   "execution_count": 1,
   "id": "a028c5c9",
   "metadata": {},
   "outputs": [],
   "source": [
    "from requests import get\n",
    "from bs4 import BeautifulSoup\n",
    "import re\n",
    "import pandas as pd"
   ]
  },
  {
   "cell_type": "markdown",
   "id": "0b0950aa",
   "metadata": {},
   "source": [
    "# Gets url of twenty pages"
   ]
  },
  {
   "cell_type": "code",
   "execution_count": 2,
   "id": "18cc4843",
   "metadata": {},
   "outputs": [],
   "source": [
    "urls = []\n",
    "for i in range(1,21,1):\n",
    "    url = \"https://www.ndtv.com/latest/page-\"+str(i)\n",
    "    urls.append(url)"
   ]
  },
  {
   "cell_type": "markdown",
   "id": "bce709da",
   "metadata": {},
   "source": [
    "# Fetch article Function"
   ]
  },
  {
   "cell_type": "code",
   "execution_count": 3,
   "id": "5348b0ab",
   "metadata": {},
   "outputs": [],
   "source": [
    "def fetch_article(url):\n",
    "    data = get(url)\n",
    "    soup = BeautifulSoup(data.content,\"html.parser\")\n",
    "    articles = []\n",
    "    for i in soup.find_all(\"h2\",class_=[\"newsHdng\"]):\n",
    "        articles.append(i.find('a').text)\n",
    "    return articles"
   ]
  },
  {
   "cell_type": "markdown",
   "id": "df08af90",
   "metadata": {},
   "source": [
    "# Get articles of all pages"
   ]
  },
  {
   "cell_type": "code",
   "execution_count": 4,
   "id": "a5c89468",
   "metadata": {},
   "outputs": [],
   "source": [
    "all_articles = []\n",
    "for i in urls:\n",
    "    all_articles.extend(fetch_article(i))"
   ]
  },
  {
   "cell_type": "markdown",
   "id": "9ff8aa96",
   "metadata": {},
   "source": [
    "# Article text processing"
   ]
  },
  {
   "cell_type": "code",
   "execution_count": 5,
   "id": "f6f8a8c0",
   "metadata": {},
   "outputs": [],
   "source": [
    "p_art = []\n",
    "for i in all_articles:\n",
    "    q = i.upper()\n",
    "    q = re.sub(\"[^0-9A-Z ]\",\"\",q)\n",
    "    from nltk.stem import PorterStemmer\n",
    "    tk_q = i.split(\" \")\n",
    "    sent = \"\"\n",
    "    for j in tk_q:\n",
    "        ps = PorterStemmer()\n",
    "        sent = sent + \" \" + ps.stem(j).upper()\n",
    "    p_art.append(sent)"
   ]
  },
  {
   "cell_type": "markdown",
   "id": "e5d90cca",
   "metadata": {},
   "source": [
    "# Matrix conversion to TfidfVectorizer"
   ]
  },
  {
   "cell_type": "code",
   "execution_count": 6,
   "id": "b2443168",
   "metadata": {},
   "outputs": [],
   "source": [
    "from sklearn.feature_extraction.text import TfidfVectorizer\n",
    "tf = TfidfVectorizer()\n",
    "A = tf.fit_transform(p_art).toarray()"
   ]
  },
  {
   "cell_type": "markdown",
   "id": "b9e10f6d",
   "metadata": {},
   "source": [
    "# Clustering"
   ]
  },
  {
   "cell_type": "code",
   "execution_count": 7,
   "id": "ec7eb424",
   "metadata": {},
   "outputs": [],
   "source": [
    "from sklearn.cluster import KMeans\n",
    "kc = KMeans(n_clusters=5)\n",
    "cl = kc.fit(A)"
   ]
  },
  {
   "cell_type": "code",
   "execution_count": 8,
   "id": "ec890fef",
   "metadata": {},
   "outputs": [
    {
     "data": {
      "text/plain": [
       "array([0, 3, 0, 1, 4, 0, 0, 3, 0, 0, 0, 0, 3, 0, 1, 1, 0, 0, 0, 0, 0, 1,\n",
       "       0, 1, 0, 1, 0, 1, 0, 4, 4, 1, 2, 2, 1, 0, 0, 1, 0, 0, 0, 0, 0, 4,\n",
       "       0, 0, 3, 0, 4, 0, 3, 1, 0, 4, 1, 0, 1, 3, 1, 2, 3, 1, 2, 1, 2, 0,\n",
       "       0, 4, 2, 1, 0, 0, 4, 3, 0, 0, 3, 0, 0, 0, 0, 0, 2, 0, 3, 4, 0, 1,\n",
       "       0, 0, 0, 3, 1, 1, 0, 0, 1, 1, 1, 1, 0, 3, 0, 3, 0, 2, 0, 0, 0, 0,\n",
       "       4, 1, 1, 0, 1, 0, 0, 0, 0, 0])"
      ]
     },
     "execution_count": 8,
     "metadata": {},
     "output_type": "execute_result"
    }
   ],
   "source": [
    "cl.labels_"
   ]
  },
  {
   "cell_type": "markdown",
   "id": "92f29890",
   "metadata": {},
   "source": [
    "# Create dataframe"
   ]
  },
  {
   "cell_type": "code",
   "execution_count": 9,
   "id": "30df3623",
   "metadata": {},
   "outputs": [],
   "source": [
    "news = pd.DataFrame(p_art,columns=[\"Article\"])"
   ]
  },
  {
   "cell_type": "code",
   "execution_count": 10,
   "id": "4b859360",
   "metadata": {},
   "outputs": [],
   "source": [
    "news[\"Cluster\"]=cl.labels_"
   ]
  },
  {
   "cell_type": "code",
   "execution_count": 11,
   "id": "3f4f02a9",
   "metadata": {},
   "outputs": [
    {
     "data": {
      "text/html": [
       "<div>\n",
       "<style scoped>\n",
       "    .dataframe tbody tr th:only-of-type {\n",
       "        vertical-align: middle;\n",
       "    }\n",
       "\n",
       "    .dataframe tbody tr th {\n",
       "        vertical-align: top;\n",
       "    }\n",
       "\n",
       "    .dataframe thead th {\n",
       "        text-align: right;\n",
       "    }\n",
       "</style>\n",
       "<table border=\"1\" class=\"dataframe\">\n",
       "  <thead>\n",
       "    <tr style=\"text-align: right;\">\n",
       "      <th></th>\n",
       "      <th>Article</th>\n",
       "      <th>Cluster</th>\n",
       "    </tr>\n",
       "  </thead>\n",
       "  <tbody>\n",
       "    <tr>\n",
       "      <th>0</th>\n",
       "      <td>RALLI DRIVER MOHAM BEN SULAYEM ELECT AS NEW F...</td>\n",
       "      <td>0</td>\n",
       "    </tr>\n",
       "    <tr>\n",
       "      <th>1</th>\n",
       "      <td>TIKTOK \"SCHOOL SHOOT CHALLENGE\" SPARK FEAR OF...</td>\n",
       "      <td>3</td>\n",
       "    </tr>\n",
       "    <tr>\n",
       "      <th>2</th>\n",
       "      <td>DENMARK' CHRISTIAN ERIKSEN LEAV INTER MILAN \"...</td>\n",
       "      <td>0</td>\n",
       "    </tr>\n",
       "    <tr>\n",
       "      <th>3</th>\n",
       "      <td>OVER 93,000 COVID CASE IN UK TODAY, THIRD CON...</td>\n",
       "      <td>1</td>\n",
       "    </tr>\n",
       "    <tr>\n",
       "      <th>4</th>\n",
       "      <td>OPINION: THE PATHET PETTI OF NOT MENTION INDI...</td>\n",
       "      <td>4</td>\n",
       "    </tr>\n",
       "    <tr>\n",
       "      <th>...</th>\n",
       "      <td>...</td>\n",
       "      <td>...</td>\n",
       "    </tr>\n",
       "    <tr>\n",
       "      <th>115</th>\n",
       "      <td>ACTIVIST VARAVARA RAO MEDIC STABL AS PER DOCT...</td>\n",
       "      <td>0</td>\n",
       "    </tr>\n",
       "    <tr>\n",
       "      <th>116</th>\n",
       "      <td>UP HA TOP POSIT IN...: AKHILESH YADAV' JIBE A...</td>\n",
       "      <td>0</td>\n",
       "    </tr>\n",
       "    <tr>\n",
       "      <th>117</th>\n",
       "      <td>NEENA GUPTA AND VIVEK MEHRA, DO \"SLEEPING\" AN...</td>\n",
       "      <td>0</td>\n",
       "    </tr>\n",
       "    <tr>\n",
       "      <th>118</th>\n",
       "      <td>VIRAL VIDEO: THI MASSIV PARATHA FROM NAGPUR L...</td>\n",
       "      <td>0</td>\n",
       "    </tr>\n",
       "    <tr>\n",
       "      <th>119</th>\n",
       "      <td>WEEKEND SPECIAL: HOW TO MAKE CHICKEN GARLIC B...</td>\n",
       "      <td>0</td>\n",
       "    </tr>\n",
       "  </tbody>\n",
       "</table>\n",
       "<p>120 rows × 2 columns</p>\n",
       "</div>"
      ],
      "text/plain": [
       "                                               Article  Cluster\n",
       "0     RALLI DRIVER MOHAM BEN SULAYEM ELECT AS NEW F...        0\n",
       "1     TIKTOK \"SCHOOL SHOOT CHALLENGE\" SPARK FEAR OF...        3\n",
       "2     DENMARK' CHRISTIAN ERIKSEN LEAV INTER MILAN \"...        0\n",
       "3     OVER 93,000 COVID CASE IN UK TODAY, THIRD CON...        1\n",
       "4     OPINION: THE PATHET PETTI OF NOT MENTION INDI...        4\n",
       "..                                                 ...      ...\n",
       "115   ACTIVIST VARAVARA RAO MEDIC STABL AS PER DOCT...        0\n",
       "116   UP HA TOP POSIT IN...: AKHILESH YADAV' JIBE A...        0\n",
       "117   NEENA GUPTA AND VIVEK MEHRA, DO \"SLEEPING\" AN...        0\n",
       "118   VIRAL VIDEO: THI MASSIV PARATHA FROM NAGPUR L...        0\n",
       "119   WEEKEND SPECIAL: HOW TO MAKE CHICKEN GARLIC B...        0\n",
       "\n",
       "[120 rows x 2 columns]"
      ]
     },
     "execution_count": 11,
     "metadata": {},
     "output_type": "execute_result"
    }
   ],
   "source": [
    "news"
   ]
  },
  {
   "cell_type": "markdown",
   "id": "54571485",
   "metadata": {},
   "source": [
    "# Give the appropriate labels to the cluster"
   ]
  },
  {
   "cell_type": "code",
   "execution_count": 17,
   "id": "f793f7db",
   "metadata": {},
   "outputs": [
    {
     "data": {
      "text/html": [
       "<div>\n",
       "<style scoped>\n",
       "    .dataframe tbody tr th:only-of-type {\n",
       "        vertical-align: middle;\n",
       "    }\n",
       "\n",
       "    .dataframe tbody tr th {\n",
       "        vertical-align: top;\n",
       "    }\n",
       "\n",
       "    .dataframe thead th {\n",
       "        text-align: right;\n",
       "    }\n",
       "</style>\n",
       "<table border=\"1\" class=\"dataframe\">\n",
       "  <thead>\n",
       "    <tr style=\"text-align: right;\">\n",
       "      <th></th>\n",
       "      <th>Article</th>\n",
       "      <th>Cluster</th>\n",
       "    </tr>\n",
       "  </thead>\n",
       "  <tbody>\n",
       "  </tbody>\n",
       "</table>\n",
       "</div>"
      ],
      "text/plain": [
       "Empty DataFrame\n",
       "Columns: [Article, Cluster]\n",
       "Index: []"
      ]
     },
     "execution_count": 17,
     "metadata": {},
     "output_type": "execute_result"
    }
   ],
   "source": [
    "news[news[\"Cluster\"]==5]"
   ]
  },
  {
   "cell_type": "code",
   "execution_count": 19,
   "id": "cf21a967",
   "metadata": {},
   "outputs": [],
   "source": [
    "E = {\n",
    "    0:\"Politics\",\n",
    "    1:\"Geopolitics\",\n",
    "    2:\"State\",\n",
    "    3:\"Technologhy\",\n",
    "    4:\"Politics\"\n",
    "}"
   ]
  },
  {
   "cell_type": "code",
   "execution_count": 21,
   "id": "13f05644",
   "metadata": {},
   "outputs": [],
   "source": [
    "R = []\n",
    "for i in news.Cluster:\n",
    "    R.append(E[i])\n",
    "    \n",
    "news[\"Category\"] = R"
   ]
  },
  {
   "cell_type": "code",
   "execution_count": 22,
   "id": "015cfc49",
   "metadata": {},
   "outputs": [
    {
     "data": {
      "text/html": [
       "<div>\n",
       "<style scoped>\n",
       "    .dataframe tbody tr th:only-of-type {\n",
       "        vertical-align: middle;\n",
       "    }\n",
       "\n",
       "    .dataframe tbody tr th {\n",
       "        vertical-align: top;\n",
       "    }\n",
       "\n",
       "    .dataframe thead th {\n",
       "        text-align: right;\n",
       "    }\n",
       "</style>\n",
       "<table border=\"1\" class=\"dataframe\">\n",
       "  <thead>\n",
       "    <tr style=\"text-align: right;\">\n",
       "      <th></th>\n",
       "      <th>Article</th>\n",
       "      <th>Cluster</th>\n",
       "      <th>Category</th>\n",
       "    </tr>\n",
       "  </thead>\n",
       "  <tbody>\n",
       "    <tr>\n",
       "      <th>0</th>\n",
       "      <td>RALLI DRIVER MOHAM BEN SULAYEM ELECT AS NEW F...</td>\n",
       "      <td>0</td>\n",
       "      <td>Politics</td>\n",
       "    </tr>\n",
       "    <tr>\n",
       "      <th>1</th>\n",
       "      <td>TIKTOK \"SCHOOL SHOOT CHALLENGE\" SPARK FEAR OF...</td>\n",
       "      <td>3</td>\n",
       "      <td>Technologhy</td>\n",
       "    </tr>\n",
       "    <tr>\n",
       "      <th>2</th>\n",
       "      <td>DENMARK' CHRISTIAN ERIKSEN LEAV INTER MILAN \"...</td>\n",
       "      <td>0</td>\n",
       "      <td>Politics</td>\n",
       "    </tr>\n",
       "    <tr>\n",
       "      <th>3</th>\n",
       "      <td>OVER 93,000 COVID CASE IN UK TODAY, THIRD CON...</td>\n",
       "      <td>1</td>\n",
       "      <td>Geopolitics</td>\n",
       "    </tr>\n",
       "    <tr>\n",
       "      <th>4</th>\n",
       "      <td>OPINION: THE PATHET PETTI OF NOT MENTION INDI...</td>\n",
       "      <td>4</td>\n",
       "      <td>Politics</td>\n",
       "    </tr>\n",
       "    <tr>\n",
       "      <th>...</th>\n",
       "      <td>...</td>\n",
       "      <td>...</td>\n",
       "      <td>...</td>\n",
       "    </tr>\n",
       "    <tr>\n",
       "      <th>115</th>\n",
       "      <td>ACTIVIST VARAVARA RAO MEDIC STABL AS PER DOCT...</td>\n",
       "      <td>0</td>\n",
       "      <td>Politics</td>\n",
       "    </tr>\n",
       "    <tr>\n",
       "      <th>116</th>\n",
       "      <td>UP HA TOP POSIT IN...: AKHILESH YADAV' JIBE A...</td>\n",
       "      <td>0</td>\n",
       "      <td>Politics</td>\n",
       "    </tr>\n",
       "    <tr>\n",
       "      <th>117</th>\n",
       "      <td>NEENA GUPTA AND VIVEK MEHRA, DO \"SLEEPING\" AN...</td>\n",
       "      <td>0</td>\n",
       "      <td>Politics</td>\n",
       "    </tr>\n",
       "    <tr>\n",
       "      <th>118</th>\n",
       "      <td>VIRAL VIDEO: THI MASSIV PARATHA FROM NAGPUR L...</td>\n",
       "      <td>0</td>\n",
       "      <td>Politics</td>\n",
       "    </tr>\n",
       "    <tr>\n",
       "      <th>119</th>\n",
       "      <td>WEEKEND SPECIAL: HOW TO MAKE CHICKEN GARLIC B...</td>\n",
       "      <td>0</td>\n",
       "      <td>Politics</td>\n",
       "    </tr>\n",
       "  </tbody>\n",
       "</table>\n",
       "<p>120 rows × 3 columns</p>\n",
       "</div>"
      ],
      "text/plain": [
       "                                               Article  Cluster     Category\n",
       "0     RALLI DRIVER MOHAM BEN SULAYEM ELECT AS NEW F...        0     Politics\n",
       "1     TIKTOK \"SCHOOL SHOOT CHALLENGE\" SPARK FEAR OF...        3  Technologhy\n",
       "2     DENMARK' CHRISTIAN ERIKSEN LEAV INTER MILAN \"...        0     Politics\n",
       "3     OVER 93,000 COVID CASE IN UK TODAY, THIRD CON...        1  Geopolitics\n",
       "4     OPINION: THE PATHET PETTI OF NOT MENTION INDI...        4     Politics\n",
       "..                                                 ...      ...          ...\n",
       "115   ACTIVIST VARAVARA RAO MEDIC STABL AS PER DOCT...        0     Politics\n",
       "116   UP HA TOP POSIT IN...: AKHILESH YADAV' JIBE A...        0     Politics\n",
       "117   NEENA GUPTA AND VIVEK MEHRA, DO \"SLEEPING\" AN...        0     Politics\n",
       "118   VIRAL VIDEO: THI MASSIV PARATHA FROM NAGPUR L...        0     Politics\n",
       "119   WEEKEND SPECIAL: HOW TO MAKE CHICKEN GARLIC B...        0     Politics\n",
       "\n",
       "[120 rows x 3 columns]"
      ]
     },
     "execution_count": 22,
     "metadata": {},
     "output_type": "execute_result"
    }
   ],
   "source": [
    "news"
   ]
  },
  {
   "cell_type": "code",
   "execution_count": null,
   "id": "8b31b1d0",
   "metadata": {},
   "outputs": [],
   "source": []
  }
 ],
 "metadata": {
  "kernelspec": {
   "display_name": "Python 3",
   "language": "python",
   "name": "python3"
  },
  "language_info": {
   "codemirror_mode": {
    "name": "ipython",
    "version": 3
   },
   "file_extension": ".py",
   "mimetype": "text/x-python",
   "name": "python",
   "nbconvert_exporter": "python",
   "pygments_lexer": "ipython3",
   "version": "3.8.8"
  }
 },
 "nbformat": 4,
 "nbformat_minor": 5
}
